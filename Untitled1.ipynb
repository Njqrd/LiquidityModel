{
 "cells": [
  {
   "cell_type": "code",
   "execution_count": 1,
   "id": "078a4a9d-28db-42cc-aa80-f9d7422a8f70",
   "metadata": {},
   "outputs": [],
   "source": [
    "import os\n",
    "import pandas as pd\n",
    "import numpy as np\n",
    "# Set your working directory\n",
    "# os.chdir('/Euro Dollar')\n",
    "# Display all rows and columns\n",
    "pd.set_option('display.max_rows', None)\n",
    "pd.set_option('display.max_columns', None)\n",
    "\n",
    "def reformat_date(df):\n",
    "    for idx, date in enumerate(df['Date']):\n",
    "        # check if the date does not contain a \"/\"\n",
    "        if \"/\" not in str(date):            # reformat the date to \"mm/dd/yyyy\"\n",
    "            if len(str(date))==3:\n",
    "                date = '000'+str(date)\n",
    "\n",
    "            # convert the string to a datetime object\n",
    "            date_obj = pd.to_datetime(date, format='%y%m%d')\n",
    "# .strftime('%m/%d/%Y')\n",
    "        else:\n",
    "            date_obj = pd.to_datetime(date, format='%m/%d/%Y')\n",
    "            # reformat the date to \"mm/dd/yyyy\"\n",
    "        df.loc[idx, 'Date'] = date_obj.strftime('%m/%d/%Y')\n",
    "        \n",
    "    return df\n",
    "\n",
    "filenames = ['CL83M', 'CL83N', 'CL83Q', \n",
    "             'CL83U', 'CL83V', 'CL83X', \n",
    "             'CL83Z', 'CL84F', 'CL84G', \n",
    "             'CL84H', 'CL84J', 'CL84K', \n",
    "             'CL84M', 'CL84N', 'CL84Q', \n",
    "             'CL84U', 'CL84V', 'CL84X', \n",
    "             'CL84Z', 'CL85F', 'CL85G', \n",
    "             'CL85H', 'CL85J', 'CL85K', \n",
    "             'CL85M', 'CL85N', 'CL85Q', \n",
    "             'CL85U', 'CL85V', 'CL85X', \n",
    "             'CL85Z', 'CL86F', 'CL86G', \n",
    "             'CL86H', 'CL86J', 'CL86K', \n",
    "             'CL86M', 'CL86N', 'CL86Q', \n",
    "             'CL86U', 'CL86V', 'CL86X', \n",
    "             'CL86Z', 'CL87F', 'CL87G', \n",
    "             'CL87H', 'CL87J', 'CL87K',\n",
    "             'CL87M', 'CL87N', 'CL87Q',\n",
    "             'CL87U', 'CL87V', 'CL87X',\n",
    "             'CL87Z', 'CL88F', 'CL88G',\n",
    "             'CL88H', 'CL88J', 'CL88K',\n",
    "             'CL88M', 'CL88N', 'CL88Q',\n",
    "             'CL88U', 'CL88V', 'CL88X',\n",
    "             'CL88Z', 'CL89F', 'CL89G',\n",
    "             'CL89H', 'CL89J', 'CL89K',\n",
    "             'CL89M', 'CL89N', 'CL89Q',\n",
    "             'CL89U', 'CL89V', 'CL89X',\n",
    "             'CL89Z', 'CL90F', 'CL90G',\n",
    "             'CL90H', 'CL90J', 'CL90K',\n",
    "             'CL90M', 'CL90N', 'CL90Q',\n",
    "             'CL90U', 'CL90V', 'CL90X',\n",
    "             'CL90Z', 'CL91F', 'CL91G',\n",
    "             'CL91H', 'CL91J', 'CL91K',\n",
    "             'CL91M', 'CL91N', 'CL91Q',\n",
    "             'CL91U', 'CL91V', 'CL91X',\n",
    "             'CL91Z', 'CL92F', 'CL92G',\n",
    "             'CL92H', 'CL92J', 'CL92K',\n",
    "             'CL92M', 'CL92N', 'CL92Q',\n",
    "             'CL92U', 'CL92V', 'CL92X',\n",
    "             'CL92Z', 'CL93F', 'CL93G',\n",
    "             'CL93H', 'CL93J', 'CL93K',\n",
    "             'CL93M', 'CL93N', 'CL93Q',\n",
    "             'CL93U', 'CL93V', 'CL93X',\n",
    "             'CL93Z', 'CL94F', 'CL94G',\n",
    "             'CL94H', 'CL94J', 'CL94K',\n",
    "             'CL94M', 'CL94N', 'CL94Q',\n",
    "             'CL94U', 'CL94V', 'CL94X',\n",
    "             'CL94Z', 'CL95F', 'CL95G',\n",
    "             'CL95H', 'CL95J', 'CL95K',\n",
    "             'CL95M', 'CL95N', 'CL95Q',\n",
    "             'CL95U', 'CL95V', 'CL95X',\n",
    "             'CL95Z', 'CL96F', 'CL96G',\n",
    "             'CL96H', 'CL96J', 'CL96K',\n",
    "             'CL96M', 'CL96N', 'CL96Q',\n",
    "             'CL96U', 'CL96V', 'CL96X',\n",
    "             'CL96Z', 'CL97F', 'CL97G',\n",
    "             'CL97H', 'CL97J', 'CL97K',\n",
    "             'CL97M', 'CL97N', 'CL97Q',\n",
    "             'CL97U', 'CL97V', 'CL97X',\n",
    "             'CL97Z', 'CL98F', 'CL98G',\n",
    "             'CL98H', 'CL98J', 'CL98K',\n",
    "             'CL98M', 'CL98N', 'CL98Q',\n",
    "             'CL98U', 'CL98V', 'CL98X',\n",
    "             'CL98Z', 'CL99F', 'CL99G',\n",
    "             'CL99H', 'CL99J', 'CL99K',\n",
    "             'CL99M', 'CL99N', 'CL99Q',\n",
    "             'CL99U', 'CL99V', 'CL99X',\n",
    "             'CL99Z','CL00F', 'CL00G', 'CL00H', \n",
    "             'CL00J', 'CL00K', 'CL00M', \n",
    "             'CL00N', 'CL00Q', 'CL00U', \n",
    "             'CL00V', 'CL00X', 'CL00Z', \n",
    "             'CL01F', 'CL01G', 'CL01H', \n",
    "             'CL01J', 'CL01K', 'CL01M', \n",
    "             'CL01N', 'CL01Q', 'CL01U', \n",
    "             'CL01V', 'CL01X', 'CL01Z', \n",
    "             'CL02F', 'CL02G', 'CL02H', \n",
    "             'CL02J', 'CL02K', 'CL02M', \n",
    "             'CL02N', 'CL02Q', 'CL02U', \n",
    "             'CL02V', 'CL02X', 'CL02Z', ]\n",
    "\n",
    "# Create a dictionary to store your data\n",
    "data = {}\n",
    "\n",
    "previousKey = ''\n",
    "# Go through each file in the directory\n",
    "for file in filenames:\n",
    "    # print(file)\n",
    "    # Check if the file is a text file\n",
    "    if 1:\n",
    "        \n",
    "        # Load the text file into a DataFrame\n",
    "        df = pd.read_csv('Crude Oil/'+file+'.txt', sep=\",\", names =[\"Date\",\"Open\",\"High\",\"Low\",\"Close\",\"Volume\",\"OpenInt\"])\n",
    "        df = df[df['Date']!='Date']\n",
    "        # print(df)\n",
    "        df = reformat_date(df)\n",
    "        df['Volume'] = pd.to_numeric(df['Volume'])\n",
    "        df['OpenInt'] = pd.to_numeric(df['OpenInt'])\n",
    "        df['Close'] = pd.to_numeric(df['Close'])\n",
    "        df['NotionalValue'] = df['OpenInt']*df['Close']*1000\n",
    "        key = file\n",
    "        \n",
    "        # Store the DataFrame in the dictionary\n",
    "        data[key] = df\n",
    "        previousKey=key\n"
   ]
  },
  {
   "cell_type": "code",
   "execution_count": 8,
   "id": "0428ab91-7797-457b-9a71-197f4aa9478d",
   "metadata": {
    "tags": []
   },
   "outputs": [],
   "source": [
    "import numpy as np\n",
    "\n",
    "allKeys = list(data.keys())\n",
    "def create_dataset(data, time_steps=1):\n",
    "    Xs, ys = [], []\n",
    "    for i in range(len(data.keys()) - 1):  # Iterate over all contracts\n",
    "        X = data[allKeys[i]]['Volume']  # Volume data for current contract\n",
    "        y = data[allKeys[i+1]]['OpenInt']  # OpenInt data for next contract\n",
    "\n",
    "        # Get the minimum length of the two series\n",
    "        min_len = min(len(X), len(y))\n",
    "\n",
    "        # Iterate over the data within each contract with a sliding window\n",
    "        for j in range(min_len - time_steps):\n",
    "            v = X.iloc[j:(j + time_steps)].values\n",
    "            Xs.append(v)        \n",
    "            ys.append(y.iloc[j + time_steps])\n",
    "\n",
    "    return np.array(Xs), np.array(ys)\n",
    "\n",
    "\n",
    "# Create 3D dataset\n",
    "time_steps = 20\n",
    "Xs, ys = create_dataset(data, time_steps)"
   ]
  },
  {
   "cell_type": "code",
   "execution_count": 12,
   "id": "18a3119f-9991-4ba5-8af5-d01492669e11",
   "metadata": {
    "tags": []
   },
   "outputs": [
    {
     "name": "stdout",
     "output_type": "stream",
     "text": [
      "Epoch 1/30\n",
      "1988/1988 [==============================] - 18s 8ms/step - loss: 366259584.0000 - val_loss: nan\n",
      "Epoch 2/30\n",
      "1988/1988 [==============================] - 14s 7ms/step - loss: 393934496.0000 - val_loss: nan\n",
      "Epoch 3/30\n",
      "1988/1988 [==============================] - 15s 7ms/step - loss: 602030848.0000 - val_loss: nan\n",
      "Epoch 4/30\n",
      "1988/1988 [==============================] - 14s 7ms/step - loss: 354723872.0000 - val_loss: nan\n",
      "Epoch 5/30\n",
      "1988/1988 [==============================] - 15s 7ms/step - loss: 364067808.0000 - val_loss: nan\n",
      "Epoch 6/30\n",
      "1988/1988 [==============================] - 15s 7ms/step - loss: 336867808.0000 - val_loss: nan\n",
      "Epoch 7/30\n",
      "1988/1988 [==============================] - 15s 7ms/step - loss: 366993568.0000 - val_loss: nan\n",
      "Epoch 8/30\n",
      "1988/1988 [==============================] - 15s 7ms/step - loss: 359219520.0000 - val_loss: nan\n",
      "Epoch 9/30\n",
      "1988/1988 [==============================] - 14s 7ms/step - loss: 418880512.0000 - val_loss: nan\n",
      "Epoch 10/30\n",
      "1988/1988 [==============================] - 15s 7ms/step - loss: 329164544.0000 - val_loss: nan\n",
      "Epoch 11/30\n",
      "1988/1988 [==============================] - 15s 7ms/step - loss: 345625504.0000 - val_loss: nan\n",
      "Epoch 12/30\n",
      "1988/1988 [==============================] - 14s 7ms/step - loss: 339181920.0000 - val_loss: nan\n",
      "Epoch 13/30\n",
      "1988/1988 [==============================] - 14s 7ms/step - loss: 328883680.0000 - val_loss: nan\n",
      "Epoch 14/30\n",
      "1988/1988 [==============================] - 15s 7ms/step - loss: 324745056.0000 - val_loss: nan\n",
      "Epoch 15/30\n",
      "1988/1988 [==============================] - 14s 7ms/step - loss: 342713600.0000 - val_loss: nan\n",
      "Epoch 16/30\n",
      "1988/1988 [==============================] - 14s 7ms/step - loss: 336735232.0000 - val_loss: nan\n",
      "Epoch 17/30\n",
      "1988/1988 [==============================] - 15s 7ms/step - loss: 320615808.0000 - val_loss: nan\n",
      "Epoch 18/30\n",
      "1988/1988 [==============================] - 15s 7ms/step - loss: 321895168.0000 - val_loss: nan\n",
      "Epoch 19/30\n",
      "1988/1988 [==============================] - 15s 7ms/step - loss: 322123264.0000 - val_loss: nan\n",
      "Epoch 20/30\n",
      "1988/1988 [==============================] - 15s 8ms/step - loss: 365113696.0000 - val_loss: nan\n",
      "Epoch 21/30\n",
      "1988/1988 [==============================] - 17s 8ms/step - loss: 333060896.0000 - val_loss: nan\n",
      "Epoch 22/30\n",
      "1988/1988 [==============================] - 15s 7ms/step - loss: 347870944.0000 - val_loss: nan\n",
      "Epoch 23/30\n",
      "1988/1988 [==============================] - 15s 7ms/step - loss: 333273280.0000 - val_loss: nan\n",
      "Epoch 24/30\n",
      "1988/1988 [==============================] - 14s 7ms/step - loss: 323443712.0000 - val_loss: nan\n",
      "Epoch 25/30\n",
      "1988/1988 [==============================] - 15s 7ms/step - loss: 319402720.0000 - val_loss: nan\n",
      "Epoch 26/30\n",
      "1988/1988 [==============================] - 15s 7ms/step - loss: 394735232.0000 - val_loss: nan\n",
      "Epoch 27/30\n",
      "1988/1988 [==============================] - 15s 7ms/step - loss: 339421664.0000 - val_loss: nan\n",
      "Epoch 28/30\n",
      "1988/1988 [==============================] - 15s 8ms/step - loss: 312419968.0000 - val_loss: nan\n",
      "Epoch 29/30\n",
      "1988/1988 [==============================] - 15s 7ms/step - loss: 306504352.0000 - val_loss: nan\n",
      "Epoch 30/30\n",
      "1988/1988 [==============================] - 14s 7ms/step - loss: 334147680.0000 - val_loss: nan\n",
      "2484/2484 [==============================] - 7s 3ms/step\n"
     ]
    }
   ],
   "source": [
    "from tensorflow.keras.models import Sequential\n",
    "from tensorflow.keras.layers import LSTM, Dense\n",
    "\n",
    "model = Sequential([\n",
    "    LSTM(50, activation='relu', input_shape=(time_steps, 1)),\n",
    "    Dense(1)\n",
    "])\n",
    "\n",
    "model.compile(optimizer='adam', loss='mse')\n",
    "\n",
    "history = model.fit(\n",
    "    Xs, ys,\n",
    "    epochs=30,\n",
    "    batch_size=32,\n",
    "    validation_split=0.2,\n",
    "    shuffle=False\n",
    ")\n",
    "y_pred = model.predict(Xs)\n",
    "\n"
   ]
  },
  {
   "cell_type": "code",
   "execution_count": 16,
   "id": "81d3e7f3-6f20-4fd0-87db-de10a229f8c5",
   "metadata": {
    "tags": []
   },
   "outputs": [
    {
     "data": {
      "text/plain": [
       "(79488, 1)"
      ]
     },
     "execution_count": 16,
     "metadata": {},
     "output_type": "execute_result"
    }
   ],
   "source": [
    "y_pred.shape"
   ]
  },
  {
   "cell_type": "code",
   "execution_count": 17,
   "id": "847cd271-ef14-47ff-8fc2-f7ab4a7f1ce6",
   "metadata": {
    "tags": []
   },
   "outputs": [
    {
     "name": "stdout",
     "output_type": "stream",
     "text": [
      "[[ 1359.8096]\n",
      " [ 1072.4579]\n",
      " [ 1155.7172]\n",
      " ...\n",
      " [67433.26  ]\n",
      " [68967.    ]\n",
      " [77158.65  ]]\n"
     ]
    }
   ],
   "source": [
    "print(y_pred)"
   ]
  },
  {
   "cell_type": "code",
   "execution_count": 18,
   "id": "d42d41a0-b827-4047-bdb2-686b0028238c",
   "metadata": {
    "tags": []
   },
   "outputs": [
    {
     "data": {
      "text/plain": [
       "array([[9.4900e+02, 5.2100e+02, 1.5600e+02, ..., 1.1300e+02, 9.3000e+01,\n",
       "        2.4000e+01],\n",
       "       [5.2100e+02, 1.5600e+02, 1.7500e+02, ..., 9.3000e+01, 2.4000e+01,\n",
       "        5.6300e+02],\n",
       "       [1.5600e+02, 1.7500e+02, 3.9200e+02, ..., 2.4000e+01, 5.6300e+02,\n",
       "        3.2300e+02],\n",
       "       ...,\n",
       "       [2.1576e+04, 3.9742e+04, 3.6150e+04, ..., 8.0282e+04, 7.6279e+04,\n",
       "        7.6301e+04],\n",
       "       [3.9742e+04, 3.6150e+04, 5.1341e+04, ..., 7.6279e+04, 7.6301e+04,\n",
       "        6.8291e+04],\n",
       "       [3.6150e+04, 5.1341e+04, 4.3916e+04, ..., 7.6301e+04, 6.8291e+04,\n",
       "        9.7932e+04]])"
      ]
     },
     "execution_count": 18,
     "metadata": {},
     "output_type": "execute_result"
    }
   ],
   "source": [
    "Xs"
   ]
  },
  {
   "cell_type": "code",
   "execution_count": null,
   "id": "1aba80b9-50ce-422e-8d0a-7bf2f22d42e2",
   "metadata": {},
   "outputs": [],
   "source": []
  }
 ],
 "metadata": {
  "kernelspec": {
   "display_name": "Python 3 (ipykernel)",
   "language": "python",
   "name": "python3"
  },
  "language_info": {
   "codemirror_mode": {
    "name": "ipython",
    "version": 3
   },
   "file_extension": ".py",
   "mimetype": "text/x-python",
   "name": "python",
   "nbconvert_exporter": "python",
   "pygments_lexer": "ipython3",
   "version": "3.11.2"
  }
 },
 "nbformat": 4,
 "nbformat_minor": 5
}
